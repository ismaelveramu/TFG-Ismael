{
 "cells": [
  {
   "cell_type": "code",
   "execution_count": 1,
   "metadata": {},
   "outputs": [],
   "source": [
    "import pandas as pd"
   ]
  },
  {
   "cell_type": "code",
   "execution_count": 2,
   "metadata": {},
   "outputs": [
    {
     "name": "stdout",
     "output_type": "stream",
     "text": [
      "      Unnamed: 0  Database    Gene Amino acid position Reference Amino acid  \\\n",
      "0              0    Gnomad   GRIN1                   1                  Met   \n",
      "1              1    Gnomad   GRIN1                   3                  Thr   \n",
      "2              2    Gnomad   GRIN1                 117                  Pro   \n",
      "3              3    Gnomad   GRIN1                 243                  Ser   \n",
      "4              4    Gnomad   GRIN1                 288                  Val   \n",
      "...          ...       ...     ...                 ...                  ...   \n",
      "4582        4582  BCN-GRIN  GRIN2B                 732                  Asp   \n",
      "4583        4583  BCN-GRIN  GRIN2B                 737                  Glu   \n",
      "4584        4584  BCN-GRIN  GRIN2B                 832                  Ser   \n",
      "4585        4585  BCN-GRIN  GRIN2B                 821                  Val   \n",
      "4586        4586  BCN-GRIN  GRIN2B                 528                  Pro   \n",
      "\n",
      "     Mutated Amino acid  Equivalent position  \\\n",
      "0                     ?                    1   \n",
      "1                   Ala                    3   \n",
      "2                   Ala                  122   \n",
      "3                   Ala                  252   \n",
      "4                   Ala                  300   \n",
      "...                 ...                  ...   \n",
      "4582               Asn                   732   \n",
      "4583                Lys                  737   \n",
      "4584                Arg                  832   \n",
      "4585         GlyfsTer90                  821   \n",
      "4586                Thr                  528   \n",
      "\n",
      "                      Aminoacid change        Nucleotide change Domain  ...  \\\n",
      "0                NP_015566.1:p.(Met1?)       NM_007327.4:c.1A>T    ATD  ...   \n",
      "1              NP_015566.1:p.(Thr3Ala)       NM_007327.4:c.7A>G    ATD  ...   \n",
      "2            NP_015566.1:p.(Pro117Ala)     NM_007327.4:c.349C>G    ATD  ...   \n",
      "3            NP_015566.1:p.(Ser243Ala)  NM_001185090.1:c.790T>G    ATD  ...   \n",
      "4            NP_015566.1:p.(Val288Ala)     NM_007327.4:c.926T>C    ATD  ...   \n",
      "...                                ...                      ...    ...  ...   \n",
      "4582        NP_000825.2:p.(Asp732Asn )                c.2194G>A    LBD  ...   \n",
      "4583         NP_000825.2:p.(Glu737Lys)                c.2209G>A    LBD  ...   \n",
      "4584         NP_000825.2:p.(Ser832Arg)                c.2496C>G     M4  ...   \n",
      "4585  NP_000825.2:p.(Val821GlyfsTer90)                      NaN     M4  ...   \n",
      "4586         NP_000825.2:p.(Pro528Thr)                      NaN    LBD  ...   \n",
      "\n",
      "          NP_code Pubmed    Code          Ensembl VariationID AlleleID(s)  \\\n",
      "0     NP_015566.1    NaN  Q05586  ENSG00000176884         NaN         NaN   \n",
      "1     NP_015566.1    NaN  Q05586  ENSG00000176884         NaN         NaN   \n",
      "2     NP_015566.1    NaN  Q05586  ENSG00000176884         NaN         NaN   \n",
      "3     NP_015566.1    NaN  Q05586  ENSG00000176884         NaN         NaN   \n",
      "4     NP_015566.1    NaN  Q05586  ENSG00000176884         NaN         NaN   \n",
      "...           ...    ...     ...              ...         ...         ...   \n",
      "4582  NP_000825.2    NaN  Q13224  ENSG00000273079         NaN         NaN   \n",
      "4583  NP_000825.2    NaN  Q13224  ENSG00000273079         NaN         NaN   \n",
      "4584  NP_000825.2    NaN  Q13224  ENSG00000273079         NaN         NaN   \n",
      "4585  NP_000825.2    NaN  Q13224  ENSG00000273079         NaN         NaN   \n",
      "4586  NP_000825.2    NaN  Q13224  ENSG00000273079         NaN         NaN   \n",
      "\n",
      "     GRCh37Chromosome GRCh37Location GRCh38Chromosome GRCh38Location  \n",
      "0                 9.0      140033939              9.0      140033939  \n",
      "1                 9.0      140033945              9.0      140033945  \n",
      "2                 9.0      140036555              9.0      140036555  \n",
      "3                 9.0      140051176              9.0      140051176  \n",
      "4                 9.0      140051384              9.0      140051384  \n",
      "...               ...            ...              ...            ...  \n",
      "4582              NaN            NaN              NaN            NaN  \n",
      "4583              NaN            NaN              NaN            NaN  \n",
      "4584              NaN            NaN              NaN            NaN  \n",
      "4585              NaN            NaN              NaN            NaN  \n",
      "4586              NaN            NaN              NaN            NaN  \n",
      "\n",
      "[4587 rows x 27 columns]\n"
     ]
    }
   ],
   "source": [
    "#Llegeix taula\n",
    "table = pd.read_excel('GRINDB_2023-04-18.xlsx')\n",
    "print(table)"
   ]
  },
  {
   "cell_type": "code",
   "execution_count": 3,
   "metadata": {},
   "outputs": [
    {
     "name": "stdout",
     "output_type": "stream",
     "text": [
      "        Gene Amino acid position Reference Amino acid Mutated Amino acid  \\\n",
      "0      GRIN1                   1                  Met                  ?   \n",
      "1      GRIN1                   3                  Thr                Ala   \n",
      "2      GRIN1                 117                  Pro                Ala   \n",
      "3      GRIN1                 243                  Ser                Ala   \n",
      "4      GRIN1                 288                  Val                Ala   \n",
      "...      ...                 ...                  ...                ...   \n",
      "4582  GRIN2B                 732                  Asp               Asn    \n",
      "4583  GRIN2B                 737                  Glu                Lys   \n",
      "4584  GRIN2B                 832                  Ser                Arg   \n",
      "4585  GRIN2B                 821                  Val         GlyfsTer90   \n",
      "4586  GRIN2B                 528                  Pro                Thr   \n",
      "\n",
      "     Gain/Loss Disease-association Mutation Category  \n",
      "0          NaN             Neutral          Missense  \n",
      "1          NaN             Neutral          Missense  \n",
      "2          NaN             Neutral          Missense  \n",
      "3          NaN             Neutral          Missense  \n",
      "4          NaN             Neutral          Missense  \n",
      "...        ...                 ...               ...  \n",
      "4582       NaN  Disease associated          Missense  \n",
      "4583       NaN  Disease associated          Missense  \n",
      "4584       NaN  Disease associated          Missense  \n",
      "4585       NaN  Disease associated        Truncation  \n",
      "4586       NaN  Disease associated          Missense  \n",
      "\n",
      "[4587 rows x 7 columns]\n"
     ]
    }
   ],
   "source": [
    "#Eliminem columnes que no ens interessen\n",
    "#Ens qudem només amb: Gene, Amino acid position, Gain/Loss, Disease-association, Mutation Category, Reference Amino acid, Mutated Amino acid\n",
    "taula2=table.drop(['Unnamed: 0', 'Database','Equivalent position','Aminoacid change','Nucleotide change','Domain','Functional Information','Phenotype category','Clinical description','NM_code','NP_code','Pubmed','Code','Ensembl','VariationID','AlleleID(s)','GRCh37Chromosome','GRCh37Location','GRCh38Chromosome','GRCh38Location'], axis=1)\n",
    "print(taula2)\n"
   ]
  },
  {
   "cell_type": "code",
   "execution_count": 4,
   "metadata": {},
   "outputs": [],
   "source": [
    "#Per GRIN1\n",
    "#Agafem de la taula només GRIN1 i creem nova taula\n",
    "G1=taula2.loc[taula2['Gene']=='GRIN1']\n",
    "#De la nova taula agafem només Missense i creem una altra nova taula\n",
    "G1_1=G1.loc[G1['Mutation Category']=='Missense']\n",
    "#De la nova taula agafem només les GoF (P), GoF, i LoF creem una altra noves taules\n",
    "#Taula GoF (P)\n",
    "G1_gofp=G1_1.loc[G1['Gain/Loss']=='GoF (P)']\n",
    "#Taula GoF\n",
    "G1_gof=G1_1.loc[G1['Gain/Loss']=='GoF']\n",
    "#Taula LoF\n",
    "G1_lof=G1_1.loc[G1['Gain/Loss']=='LoF']\n",
    "#Taula Complex\n",
    "G1_c=G1_1.loc[G1['Gain/Loss']=='Complex']\n",
    "\n"
   ]
  },
  {
   "cell_type": "code",
   "execution_count": 6,
   "metadata": {},
   "outputs": [
    {
     "data": {
      "text/plain": [
       "'resi 551 or resi 637 or resi 638 or resi 641 or resi 641 or resi 650 or resi 653 or resi 654 or resi 659 or resi 744 or resi 789 or resi 794 or resi 794 or resi 806 or resi 806 or resi 807'"
      ]
     },
     "execution_count": 6,
     "metadata": {},
     "output_type": "execute_result"
    }
   ],
   "source": [
    "#GRIN 1 GoF (P)\n",
    "#creo una llista amb la posició del aminoàcid\n",
    "llista1=list(G1_gofp['Amino acid position'])\n",
    "#la ordeno per ordre creixent\n",
    "llista1.sort()\n",
    "#creo llista buida\n",
    "L1=[]\n",
    "#inicialitzo comptador a 0\n",
    "comp=0\n",
    "#mentres que la llargada de la llista sigui diferent al comptador\n",
    "while len(llista1)!=comp:\n",
    "    #poso que \"h\" és resi, la posició de la llista de aa, i or\n",
    "    h=['resi',llista1[comp],'or ']\n",
    "    #afegeixo h a la llista buida L1\n",
    "    L1.append(h)\n",
    "    #sumo 1 al comptador per canviar de posició\n",
    "    comp=comp+1\n",
    "#paso la llista a cadena\n",
    "s = ','.join(map(str, L1))\n",
    "#elimino: [ ] , '\n",
    "ss=s.replace('[','')\n",
    "sss=ss.replace(',','')\n",
    "ssss=sss.replace(']','')\n",
    "sssss=ssss.replace(\"'\",\"\")\n",
    "#ara borrem el \"or\" final \n",
    "#faig una funció per borrar el or final\n",
    "def remove_last_or(chain):\n",
    "    #Divideix la cadena en diferents elements separats per \"or\"\n",
    "    elements = chain.split(\"or\")\n",
    "    #Per si nomes hagues un a la llista, retorna la cadena tal com està\n",
    "    if len(elements) == 1:\n",
    "        return chain\n",
    "    #Treu qualsevol espai en blanc inicial o final de cada element\n",
    "    cleaned_elements = [elem.strip() for elem in elements]\n",
    "    #Elimina l'últim element, que hauria de ser una cadena buida després de l'últim \"or\"\n",
    "    cleaned_elements.pop()\n",
    "    #Torna a unir els elements \"netejats\" fent servir \"or\" com a separador\n",
    "    new_chain = \" or \".join(cleaned_elements)\n",
    "    return new_chain\n",
    "Grin1_gofp_aa = remove_last_or(sssss)\n",
    "Grin1_gofp_aa"
   ]
  },
  {
   "cell_type": "code",
   "execution_count": 7,
   "metadata": {},
   "outputs": [
    {
     "data": {
      "text/plain": [
       "'resi 641'"
      ]
     },
     "execution_count": 7,
     "metadata": {},
     "output_type": "execute_result"
    }
   ],
   "source": [
    "#GRIN 1 GoF\n",
    "#creo una llista amb la posició del aminoàcid\n",
    "llista1=list(G1_gof['Amino acid position'])\n",
    "#la ordeno per ordre creixent\n",
    "llista1.sort()\n",
    "#creo llista buida\n",
    "L1=[]\n",
    "#inicialitzo comptador a 0\n",
    "comp=0\n",
    "#mentres que la llargada de la llista sigui diferent al comptador\n",
    "while len(llista1)!=comp:\n",
    "    #poso que \"h\" és resi, la posició de la llista de aa, i or\n",
    "    h=['resi',llista1[comp],'or ']\n",
    "    #afegeixo h a la llista buida L1\n",
    "    L1.append(h)\n",
    "    #sumo 1 al comptador per canviar de posició\n",
    "    comp=comp+1\n",
    "#paso la llista a cadena\n",
    "s = ','.join(map(str, L1))\n",
    "#elimino: [ ] , '\n",
    "ss=s.replace('[','')\n",
    "sss=ss.replace(',','')\n",
    "ssss=sss.replace(']','')\n",
    "sssss=ssss.replace(\"'\",\"\")\n",
    "#ara borrem el \"or\" final \n",
    "Grin1_gof_aa = remove_last_or(sssss)\n",
    "Grin1_gof_aa"
   ]
  },
  {
   "cell_type": "code",
   "execution_count": 8,
   "metadata": {},
   "outputs": [
    {
     "data": {
      "text/plain": [
       "'resi 217 or resi 523 or resi 532 or resi 536 or resi 552 or resi 560 or resi 618 or resi 620 or resi 647 or resi 660 or resi 732 or resi 805 or resi 805 or resi 813 or resi 815 or resi 817 or resi 827 or resi 834'"
      ]
     },
     "execution_count": 8,
     "metadata": {},
     "output_type": "execute_result"
    }
   ],
   "source": [
    "#GRIN 1 LoF\n",
    "#creo una llista amb la posició del aminoàcid\n",
    "llista1=list(G1_lof['Amino acid position'])\n",
    "#la ordeno per ordre creixent\n",
    "llista1.sort()\n",
    "#creo llista buida\n",
    "L1=[]\n",
    "#inicialitzo comptador a 0\n",
    "comp=0\n",
    "#mentres que la llargada de la llista sigui diferent al comptador\n",
    "while len(llista1)!=comp:\n",
    "    #poso que \"h\" és resi, la posició de la llista de aa, i or\n",
    "    h=['resi',llista1[comp],'or ']\n",
    "    #afegeixo h a la llista buida L1\n",
    "    L1.append(h)\n",
    "    #sumo 1 al comptador per canviar de posició\n",
    "    comp=comp+1\n",
    "#paso la llista a cadena\n",
    "s = ','.join(map(str, L1))\n",
    "#elimino: [ ] , '\n",
    "ss=s.replace('[','')\n",
    "sss=ss.replace(',','')\n",
    "ssss=sss.replace(']','')\n",
    "sssss=ssss.replace(\"'\",\"\")\n",
    "#ara borrem el \"or\" final \n",
    "Grin1_lof_aa = remove_last_or(sssss)\n",
    "Grin1_lof_aa"
   ]
  },
  {
   "cell_type": "code",
   "execution_count": 9,
   "metadata": {},
   "outputs": [
    {
     "data": {
      "text/plain": [
       "'resi 557 or resi 617 or resi 645 or resi 647 or resi 656 or resi 814 or resi 815'"
      ]
     },
     "execution_count": 9,
     "metadata": {},
     "output_type": "execute_result"
    }
   ],
   "source": [
    "#GRIN 1 Complex\n",
    "#creo una llista amb la posició del aminoàcid\n",
    "llista1=list(G1_c['Amino acid position'])\n",
    "#la ordeno per ordre creixent\n",
    "llista1.sort()\n",
    "#creo llista buida\n",
    "L1=[]\n",
    "#inicialitzo comptador a 0\n",
    "comp=0\n",
    "#mentres que la llargada de la llista sigui diferent al comptador\n",
    "while len(llista1)!=comp:\n",
    "    #poso que \"h\" és resi, la posició de la llista de aa, i or\n",
    "    h=['resi',llista1[comp],'or ']\n",
    "    #afegeixo h a la llista buida L1\n",
    "    L1.append(h)\n",
    "    #sumo 1 al comptador per canviar de posició\n",
    "    comp=comp+1\n",
    "#paso la llista a cadena\n",
    "s = ','.join(map(str, L1))\n",
    "#elimino: [ ] , '\n",
    "ss=s.replace('[','')\n",
    "sss=ss.replace(',','')\n",
    "ssss=sss.replace(']','')\n",
    "sssss=ssss.replace(\"'\",\"\")\n",
    "#ara borrem el \"or\" final \n",
    "#fem un replace de 'or' per 'res' a la ultima posició que trobi un or\n",
    "Grin1_c_aa = remove_last_or(sssss)\n",
    "Grin1_c_aa"
   ]
  },
  {
   "cell_type": "code",
   "execution_count": 10,
   "metadata": {},
   "outputs": [],
   "source": [
    "#Per GRIN2A\n",
    "#Agafem de la taula només GRIN1 i creem nova taula\n",
    "G2A=taula2.loc[taula2['Gene']=='GRIN2A']\n",
    "#De la nova taula agafem només Missense i creem una altra nova taula\n",
    "G2A_1=G2A.loc[G2A['Mutation Category']=='Missense']\n",
    "#De la nova taula agafem només les GoF (P), GoF, i LoF creem una altra noves taules\n",
    "#Taula GoF (P)\n",
    "G2A_gofp=G2A_1.loc[G2A['Gain/Loss']=='GoF (P)']\n",
    "#Taula GoF\n",
    "G2A_gof=G2A_1.loc[G2A['Gain/Loss']=='GoF']\n",
    "#Taula LoF\n",
    "G2A_lof=G2A_1.loc[G2A['Gain/Loss']=='LoF']\n",
    "#Taula Complex\n",
    "G2A_c=G2A_1.loc[G2A['Gain/Loss']=='Complex']"
   ]
  },
  {
   "cell_type": "code",
   "execution_count": 11,
   "metadata": {},
   "outputs": [
    {
     "data": {
      "text/plain": [
       "'resi 551 or resi 611 or resi 615 or resi 635 or resi 642 or resi 643 or resi 644 or resi 646 or resi 649 or resi 652 or resi 653 or resi 654 or resi 695 or resi 804 or resi 809 or resi 818'"
      ]
     },
     "execution_count": 11,
     "metadata": {},
     "output_type": "execute_result"
    }
   ],
   "source": [
    "#GRIN 2A GoF (P)\n",
    "#creo una llista amb la posició del aminoàcid\n",
    "llista1=list(G2A_gofp['Amino acid position'])\n",
    "#la ordeno per ordre creixent\n",
    "llista1.sort()\n",
    "#creo llista buida\n",
    "L1=[]\n",
    "#inicialitzo comptador a 0\n",
    "comp=0\n",
    "#mentres que la llargada de la llista sigui diferent al comptador\n",
    "while len(llista1)!=comp:\n",
    "    #poso que \"h\" és resi, la posició de la llista de aa, i or\n",
    "    h=['resi',llista1[comp],'or ']\n",
    "    #afegeixo h a la llista buida L1\n",
    "    L1.append(h)\n",
    "    #sumo 1 al comptador per canviar de posició\n",
    "    comp=comp+1\n",
    "#paso la llista a cadena\n",
    "s = ','.join(map(str, L1))\n",
    "#elimino: [ ] , '\n",
    "ss=s.replace('[','')\n",
    "sss=ss.replace(',','')\n",
    "ssss=sss.replace(']','')\n",
    "sssss=ssss.replace(\"'\",\"\")\n",
    "#ara borrem el \"or\" final \n",
    "#fem un replace de 'or' per 'res' a la ultima posició que trobi un or\n",
    "Grin2A_gofp_aa = remove_last_or(sssss)\n",
    "Grin2A_gofp_aa"
   ]
  },
  {
   "cell_type": "code",
   "execution_count": 12,
   "metadata": {},
   "outputs": [
    {
     "data": {
      "text/plain": [
       "'resi 639 or resi 669 or resi 812 or resi 817'"
      ]
     },
     "execution_count": 12,
     "metadata": {},
     "output_type": "execute_result"
    }
   ],
   "source": [
    "#GRIN 2A GoF\n",
    "#creo una llista amb la posició del aminoàcid\n",
    "llista1=list(G2A_gof['Amino acid position'])\n",
    "#la ordeno per ordre creixent\n",
    "llista1.sort()\n",
    "#creo llista buida\n",
    "L1=[]\n",
    "#inicialitzo comptador a 0\n",
    "comp=0\n",
    "#mentres que la llargada de la llista sigui diferent al comptador\n",
    "while len(llista1)!=comp:\n",
    "    #poso que \"h\" és resi, la posició de la llista de aa, i or\n",
    "    h=['resi',llista1[comp],'or ']\n",
    "    #afegeixo h a la llista buida L1\n",
    "    L1.append(h)\n",
    "    #sumo 1 al comptador per canviar de posició\n",
    "    comp=comp+1\n",
    "#paso la llista a cadena\n",
    "s = ','.join(map(str, L1))\n",
    "#elimino: [ ] , '\n",
    "ss=s.replace('[','')\n",
    "sss=ss.replace(',','')\n",
    "ssss=sss.replace(']','')\n",
    "sssss=ssss.replace(\"'\",\"\")\n",
    "#ara borrem el \"or\" final \n",
    "Grin2A_gof_aa = remove_last_or(sssss)\n",
    "Grin2A_gof_aa"
   ]
  },
  {
   "cell_type": "code",
   "execution_count": 13,
   "metadata": {},
   "outputs": [
    {
     "data": {
      "text/plain": [
       "'resi 1 or resi 79 or resi 231 or resi 231 or resi 411 or resi 436 or resi 483 or resi 500 or resi 511 or resi 518 or resi 518 or resi 527 or resi 531 or resi 548 or resi 614 or resi 653 or resi 685 or resi 690 or resi 694 or resi 705 or resi 716 or resi 727 or resi 731 or resi 733 or resi 734 or resi 760 or resi 772 or resi 803 or resi 811 or resi 820 or resi 1459'"
      ]
     },
     "execution_count": 13,
     "metadata": {},
     "output_type": "execute_result"
    }
   ],
   "source": [
    "#GRIN 2A LoF\n",
    "#creo una llista amb la posició del aminoàcid\n",
    "llista1=list(G2A_lof['Amino acid position'])\n",
    "#la ordeno per ordre creixent\n",
    "llista1.sort()\n",
    "#creo llista buida\n",
    "L1=[]\n",
    "#inicialitzo comptador a 0\n",
    "comp=0\n",
    "#mentres que la llargada de la llista sigui diferent al comptador\n",
    "while len(llista1)!=comp:\n",
    "    #poso que \"h\" és resi, la posició de la llista de aa, i or\n",
    "    h=['resi',llista1[comp],'or ']\n",
    "    #afegeixo h a la llista buida L1\n",
    "    L1.append(h)\n",
    "    #sumo 1 al comptador per canviar de posició\n",
    "    comp=comp+1\n",
    "#paso la llista a cadena\n",
    "s = ','.join(map(str, L1))\n",
    "#elimino: [ ] , '\n",
    "ss=s.replace('[','')\n",
    "sss=ss.replace(',','')\n",
    "ssss=sss.replace(']','')\n",
    "sssss=ssss.replace(\"'\",\"\")\n",
    "#ara borrem el \"or\" final \n",
    "Grin2A_lof_aa = remove_last_or(sssss)\n",
    "Grin2A_lof_aa"
   ]
  },
  {
   "cell_type": "code",
   "execution_count": 14,
   "metadata": {},
   "outputs": [
    {
     "data": {
      "text/plain": [
       "'resi 552 or resi 615 or resi 714'"
      ]
     },
     "execution_count": 14,
     "metadata": {},
     "output_type": "execute_result"
    }
   ],
   "source": [
    "#GRIN 2A Complex\n",
    "#creo una llista amb la posició del aminoàcid\n",
    "llista1=list(G2A_c['Amino acid position'])\n",
    "#la ordeno per ordre creixent\n",
    "llista1.sort()\n",
    "#creo llista buida\n",
    "L1=[]\n",
    "#inicialitzo comptador a 0\n",
    "comp=0\n",
    "#mentres que la llargada de la llista sigui diferent al comptador\n",
    "while len(llista1)!=comp:\n",
    "    #poso que \"h\" és resi, la posició de la llista de aa, i or\n",
    "    h=['resi',llista1[comp],'or ']\n",
    "    #afegeixo h a la llista buida L1\n",
    "    L1.append(h)\n",
    "    #sumo 1 al comptador per canviar de posició\n",
    "    comp=comp+1\n",
    "#paso la llista a cadena\n",
    "s = ','.join(map(str, L1))\n",
    "#elimino: [ ] , '\n",
    "ss=s.replace('[','')\n",
    "sss=ss.replace(',','')\n",
    "ssss=sss.replace(']','')\n",
    "sssss=ssss.replace(\"'\",\"\")\n",
    "#ara borrem el \"or\" final \n",
    "Grin2A_c_aa = remove_last_or(sssss)\n",
    "Grin2A_c_aa"
   ]
  },
  {
   "cell_type": "code",
   "execution_count": 15,
   "metadata": {},
   "outputs": [],
   "source": [
    "#Per GRIN2B\n",
    "#Agafem de la taula només GRIN1 i creem nova taula\n",
    "G2B=taula2.loc[taula2['Gene']=='GRIN2B']\n",
    "#De la nova taula agafem només Missense i creem una altra nova taula\n",
    "G2B_1=G2B.loc[G2B['Mutation Category']=='Missense']\n",
    "#De la nova taula agafem només les GoF (P), GoF, i LoF creem una altra noves taules\n",
    "#Taula GoF (P)\n",
    "G2B_gofp=G2B_1.loc[G2B['Gain/Loss']=='GoF (P)']\n",
    "#Taula GoF\n",
    "G2B_gof=G2B_1.loc[G2B['Gain/Loss']=='GoF']\n",
    "#Taula LoF\n",
    "G2B_lof=G2B_1.loc[G2B['Gain/Loss']=='LoF']\n",
    "#Taula Complex\n",
    "G2B_c=G2B_1.loc[G2B['Gain/Loss']=='Complex']"
   ]
  },
  {
   "cell_type": "code",
   "execution_count": 16,
   "metadata": {},
   "outputs": [
    {
     "data": {
      "text/plain": [
       "'resi 150 or resi 607 or resi 611 or resi 636 or resi 639 or resi 649 or resi 649 or resi 655 or resi 662 or resi 693 or resi 799 or resi 810 or resi 810 or resi 818 or resi 819'"
      ]
     },
     "execution_count": 16,
     "metadata": {},
     "output_type": "execute_result"
    }
   ],
   "source": [
    "#GRIN 2B GoF (P)\n",
    "#creo una llista amb la posició del aminoàcid\n",
    "llista1=list(G2B_gofp['Amino acid position'])\n",
    "#la ordeno per ordre creixent\n",
    "llista1.sort()\n",
    "#creo llista buida\n",
    "L1=[]\n",
    "#inicialitzo comptador a 0\n",
    "comp=0\n",
    "#mentres que la llargada de la llista sigui diferent al comptador\n",
    "while len(llista1)!=comp:\n",
    "    #poso que \"h\" és resi, la posició de la llista de aa, i or\n",
    "    h=['resi',llista1[comp],'or ']\n",
    "    #afegeixo h a la llista buida L1\n",
    "    L1.append(h)\n",
    "    #sumo 1 al comptador per canviar de posició\n",
    "    comp=comp+1\n",
    "#paso la llista a cadena\n",
    "s = ','.join(map(str, L1))\n",
    "#elimino: [ ] , '\n",
    "ss=s.replace('[','')\n",
    "sss=ss.replace(',','')\n",
    "ssss=sss.replace(']','')\n",
    "sssss=ssss.replace(\"'\",\"\")\n",
    "#ara borrem el \"or\" final \n",
    "Grin2B_gofp_aa = remove_last_or(sssss)\n",
    "Grin2B_gofp_aa"
   ]
  },
  {
   "cell_type": "code",
   "execution_count": 17,
   "metadata": {},
   "outputs": [
    {
     "data": {
      "text/plain": [
       "'resi 696'"
      ]
     },
     "execution_count": 17,
     "metadata": {},
     "output_type": "execute_result"
    }
   ],
   "source": [
    "#GRIN 2B GoF\n",
    "#creo una llista amb la posició del aminoàcid\n",
    "llista1=list(G2B_gof['Amino acid position'])\n",
    "#la ordeno per ordre creixent\n",
    "llista1.sort()\n",
    "#creo llista buida\n",
    "L1=[]\n",
    "#inicialitzo comptador a 0\n",
    "comp=0\n",
    "#mentres que la llargada de la llista sigui diferent al comptador\n",
    "while len(llista1)!=comp:\n",
    "    #poso que \"h\" és resi, la posició de la llista de aa, i or\n",
    "    h=['resi',llista1[comp],'or ']\n",
    "    #afegeixo h a la llista buida L1\n",
    "    L1.append(h)\n",
    "    #sumo 1 al comptador per canviar de posició\n",
    "    comp=comp+1\n",
    "#paso la llista a cadena\n",
    "s = ','.join(map(str, L1))\n",
    "#elimino: [ ] , '\n",
    "ss=s.replace('[','')\n",
    "sss=ss.replace(',','')\n",
    "ssss=sss.replace(']','')\n",
    "sssss=ssss.replace(\"'\",\"\")\n",
    "#ara borrem el \"or\" final \n",
    "Grin2B_gof_aa = remove_last_or(sssss)\n",
    "Grin2B_gof_aa"
   ]
  },
  {
   "cell_type": "code",
   "execution_count": 18,
   "metadata": {},
   "outputs": [
    {
     "data": {
      "text/plain": [
       "'resi 413 or resi 436 or resi 456 or resi 457 or resi 459 or resi 461 or resi 484 or resi 499 or resi 514 or resi 516 or resi 519 or resi 525 or resi 532 or resi 533 or resi 541 or resi 549 or resi 550 or resi 553 or resi 553 or resi 555 or resi 558 or resi 559 or resi 607 or resi 615 or resi 628 or resi 628 or resi 636 or resi 652 or resi 657 or resi 668 or resi 687 or resi 687 or resi 689 or resi 689 or resi 691 or resi 693 or resi 695 or resi 732 or resi 734 or resi 751 or resi 751 or resi 764 or resi 781 or resi 807 or resi 820 or resi 820 or resi 820 or resi 821 or resi 824 or resi 824 or resi 825'"
      ]
     },
     "execution_count": 18,
     "metadata": {},
     "output_type": "execute_result"
    }
   ],
   "source": [
    "#GRIN 2B LoF\n",
    "#creo una llista amb la posició del aminoàcid\n",
    "llista1=list(G2B_lof['Amino acid position'])\n",
    "#la ordeno per ordre creixent\n",
    "llista1.sort()\n",
    "#creo llista buida\n",
    "L1=[]\n",
    "#inicialitzo comptador a 0\n",
    "comp=0\n",
    "#mentres que la llargada de la llista sigui diferent al comptador\n",
    "while len(llista1)!=comp:\n",
    "    #poso que \"h\" és resi, la posició de la llista de aa, i or\n",
    "    h=['resi',llista1[comp],'or ']\n",
    "    #afegeixo h a la llista buida L1\n",
    "    L1.append(h)\n",
    "    #sumo 1 al comptador per canviar de posició\n",
    "    comp=comp+1\n",
    "#paso la llista a cadena\n",
    "s = ','.join(map(str, L1))\n",
    "#elimino: [ ] , '\n",
    "ss=s.replace('[','')\n",
    "sss=ss.replace(',','')\n",
    "ssss=sss.replace(']','')\n",
    "sssss=ssss.replace(\"'\",\"\")\n",
    "#ara borrem el \"or\" final \n",
    "Grin2B_lof_aa = remove_last_or(sssss)\n",
    "Grin2B_lof_aa"
   ]
  },
  {
   "cell_type": "code",
   "execution_count": 19,
   "metadata": {},
   "outputs": [
    {
     "data": {
      "text/plain": [
       "'resi 540 or resi 543 or resi 615 or resi 616 or resi 618 or resi 620'"
      ]
     },
     "execution_count": 19,
     "metadata": {},
     "output_type": "execute_result"
    }
   ],
   "source": [
    "#GRIN 1 Complex\n",
    "#creo una llista amb la posició del aminoàcid\n",
    "llista1=list(G2B_c['Amino acid position'])\n",
    "#la ordeno per ordre creixent\n",
    "llista1.sort()\n",
    "#creo llista buida\n",
    "L1=[]\n",
    "#inicialitzo comptador a 0\n",
    "comp=0\n",
    "#mentres que la llargada de la llista sigui diferent al comptador\n",
    "while len(llista1)!=comp:\n",
    "    #poso que \"h\" és resi, la posició de la llista de aa, i or\n",
    "    h=['resi',llista1[comp],'or ']\n",
    "    #afegeixo h a la llista buida L1\n",
    "    L1.append(h)\n",
    "    #sumo 1 al comptador per canviar de posició\n",
    "    comp=comp+1\n",
    "#paso la llista a cadena\n",
    "s = ','.join(map(str, L1))\n",
    "#elimino: [ ] , '\n",
    "ss=s.replace('[','')\n",
    "sss=ss.replace(',','')\n",
    "ssss=sss.replace(']','')\n",
    "sssss=ssss.replace(\"'\",\"\")\n",
    "#ara borrem el \"or\" final \n",
    "Grin2B_c_aa = remove_last_or(sssss)\n",
    "Grin2B_c_aa"
   ]
  },
  {
   "cell_type": "code",
   "execution_count": 24,
   "metadata": {},
   "outputs": [],
   "source": [
    "#Escribim fitxer de text i marquem amb colors els aa mutats\n",
    "#Primer carreguem el programa i pintem amb diferents colors les cadenes\n",
    "#GoF (P): lightpink\n",
    "#GoF: magenta\n",
    "#LoF: orange\n",
    "#Complex: yellow\n",
    "text=open(\"Funcionalitat.txt\",\"w\") \n",
    "text.write(\"load /Users/ismaelvera/Desktop/TFG/Mutacions GRINdb/GRIN.pdb\\n\"\n",
    "           \"hide everything\\n\"\n",
    "           \"show cartoon\\n\"\n",
    "           \"sele chain A+C\\n\"\n",
    "           \" color cyan, sele\\n\"\n",
    "           \"sele chain B\\n\"\n",
    "           \" color lightblue,sele\\n\"\n",
    "           \"sele chain D\\n\"\n",
    "           \" color marine,sele\\n\") \n",
    "text.write('sele (chain A+C and name ca and (')\n",
    "text.write(Grin1_gofp_aa)\n",
    "text.write(\"))\\n\"\n",
    "           \"show spheres, sele\\n\"\n",
    "           \"color lightpink, sele\\n\")\n",
    "text.write('sele (chain A+C and name ca and (')\n",
    "text.write(Grin1_gof_aa)\n",
    "text.write(\"))\\n\"\n",
    "           \"show spheres, sele\\n\"\n",
    "           \"color magenta, sele\\n\")\n",
    "text.write('sele (chain A+C and name ca and (')\n",
    "text.write(Grin1_lof_aa)\n",
    "text.write(\"))\\n\"\n",
    "           \"show spheres, sele\\n\"\n",
    "           \"color orange, sele\\n\")\n",
    "text.write('sele (chain A+C and name ca and (')\n",
    "text.write(Grin1_c_aa)\n",
    "text.write(\"))\\n\"\n",
    "           \"show spheres, sele\\n\"\n",
    "           \"color yellow, sele\\n\")\n",
    "text.write('sele (chain B and name ca and (')\n",
    "text.write(Grin2A_gofp_aa)\n",
    "text.write(\"))\\n\"\n",
    "           \"show spheres, sele\\n\"\n",
    "           \"color lightpink, sele\\n\")\n",
    "text.write('sele (chain B and name ca and (')\n",
    "text.write(Grin2A_gof_aa)\n",
    "text.write(\"))\\n\"\n",
    "           \"show spheres, sele\\n\"\n",
    "           \"color magenta, sele\\n\")\n",
    "text.write('sele (chain B and name ca and (')\n",
    "text.write(Grin2A_lof_aa)\n",
    "text.write(\"))\\n\"\n",
    "           \"show spheres, sele\\n\"\n",
    "           \"color orange, sele\\n\")\n",
    "text.write('sele (chain B and name ca and (')\n",
    "text.write(Grin2A_c_aa)\n",
    "text.write(\"))\\n\"\n",
    "           \"show spheres, sele\\n\"\n",
    "           \"color yellow, sele\\n\")\n",
    "text.write('sele (chain D and name ca and (')\n",
    "text.write(Grin2B_gofp_aa)\n",
    "text.write(\"))\\n\"\n",
    "           \"show spheres, sele\\n\"\n",
    "           \"color lightpink, sele\\n\")\n",
    "text.write('sele (chain D and name ca and (')\n",
    "text.write(Grin2B_gof_aa)\n",
    "text.write(\"))\\n\"\n",
    "           \"show spheres, sele\\n\"\n",
    "           \"color magenta, sele\\n\")\n",
    "text.write('sele (chain D and name ca and (')\n",
    "text.write(Grin2B_lof_aa)\n",
    "text.write(\"))\\n\"\n",
    "           \"show spheres, sele\\n\"\n",
    "           \"color orange, sele\\n\")\n",
    "text.write('sele (chain D and name ca and (')\n",
    "text.write(Grin2B_c_aa)\n",
    "text.write(\"))\\n\"\n",
    "           \"show spheres, sele\\n\"\n",
    "           \"color yellow, sele\\n\")\n",
    "text.close() "
   ]
  },
  {
   "cell_type": "code",
   "execution_count": 25,
   "metadata": {},
   "outputs": [
    {
     "data": {
      "text/plain": [
       "'Funcionalitat2.txt'"
      ]
     },
     "execution_count": 25,
     "metadata": {},
     "output_type": "execute_result"
    }
   ],
   "source": [
    "#Faig una copia del arxiu que he creat\n",
    "import shutil\n",
    "shutil.copy('Funcionalitat.txt', 'Funcionalitat2.txt')"
   ]
  },
  {
   "cell_type": "code",
   "execution_count": 26,
   "metadata": {},
   "outputs": [],
   "source": [
    "#Canvio el nom de la copia per fer-ho pml, aixi ho tinc en txt i en pml\n",
    "import os\n",
    "os.rename('Funcionalitat2.txt', 'Funcionalitat.pml')"
   ]
  }
 ],
 "metadata": {
  "kernelspec": {
   "display_name": "base",
   "language": "python",
   "name": "python3"
  },
  "language_info": {
   "codemirror_mode": {
    "name": "ipython",
    "version": 3
   },
   "file_extension": ".py",
   "mimetype": "text/x-python",
   "name": "python",
   "nbconvert_exporter": "python",
   "pygments_lexer": "ipython3",
   "version": "3.9.12"
  },
  "vscode": {
   "interpreter": {
    "hash": "0d6fd54eaddb41f6436496db92bf07f7f19b9b9d19e6b38ccb3c795494a23e8b"
   }
  }
 },
 "nbformat": 4,
 "nbformat_minor": 4
}
